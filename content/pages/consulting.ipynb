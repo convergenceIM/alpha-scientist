{
 "cells": [
  {
   "cell_type": "markdown",
   "source": [
    "The current wave of growth in alternative data might be starting to feel like a tsunami. With the number and variety of available datasets growing much faster than investors’ bandwidth to digest them, investment managers need to become more proficient in maximizing the “edge” extracted from data. \n",
    "\n",
    "Chad Gray, CFA is an experienced quant researcher and alternative data vendor focused on helping buy-side clients to maximize value from new data and quantitative methods, with emphasis on practical solutions that fit within an existing investment process. "
   ],
   "metadata": {
    "collapsed": false
   }
  },
  {
   "attachments": {},
   "cell_type": "markdown",
   "id": "7feb217e",
   "metadata": {},
   "source": [
    "## Scope of Coverage\n",
    "\n",
    "Projects are customized to clients’ goals and resources, but can include:\n",
    "\n",
    "#### Data Sourcing\n",
    "* __Data Scouting__ – Locate datasets best suited for your specific use case without commercial bias\n",
    "* __Data Trial Management__ – Coordinate trial evaluations of one or multiple commercial datasets. Profile and fully backtest vendor data. Negotiate with vendor if appropriate\n",
    "* __Custom Web Scraping__ – Construct/manage web scraping scripts for open web data relevant to your specific investment questions. Provide data-as-a-service and/or scripts\n",
    "\n",
    "#### Bespoke Investment Analysis\n",
    "* __Insight Extraction__ – Work large, messy datasets (e.g., credit card data, geolocation, web traffic) you’ve acquired to answer questions relevant to an investment decision\n",
    "* __Modeling__ – Develop professional-level models to systematically backtest or implement investment strategies using fundamental and/or alternative datasets\n",
    "* __KPI Dashboards__ – Construct customized analytics dashboards which enable PMs and analysts to monitor and explore the data, no code required\n",
    "\n",
    "#### Data Program Development\n",
    "* __Data Inventory__ – Itemize, catalog, and audit data assets currently accessible to your organization. Identify opportunities to expand usage or terminate unused data\n",
    "* __Infrastructure__ – Design/implement infrastructure for storing, accessing, analyzing, and sharing data across the organization\n",
    "* __Data Strategy Development__ – Facilitate a process of defining your organization’s short- and long-term goals for expanded use of data in the investment process - and to develop a realistic roadmap\n",
    "* __Team Training__ – Deliver customized trainings that build skills within existing investment teams \n"
   ]
  },
  {
   "attachments": {},
   "cell_type": "markdown",
   "id": "c6624d8b",
   "metadata": {},
   "source": [
    "## About Alpha Scientist Consulting"
   ]
  },
  {
   "cell_type": "markdown",
   "id": "f4b3c69b",
   "metadata": {},
   "source": [
    "Chad Gray, CFA has spent the past 15 years working at the intersection of alternative data and investing. He entered the field in 2007 developing and selling alternative data to hedge funds, long before the field had a name. More recently, Chad has worked as portfolio manager, quant researcher, and consultant to buy-side investors seeking to gain more value from data. \n",
    "\n",
    "Chad earned a MS in Computer Science from MIT, an MBA from MIT-Sloan, and a BS in Engineering from Northwestern. He occasionally blogs at www.alphascientist.com and develops training courses for the Financial Data Professionals Institute. \n"
   ]
  },
  {
   "attachments": {},
   "cell_type": "markdown",
   "id": "72e1677c",
   "metadata": {
    "pycharm": {
     "name": "#%% md\n"
    }
   },
   "source": [
    "If you’re trying to more effectively integrate data into your investing process, please reach out [by email](mailto:chad@alphascientist.com) or [schedule a time](https://calendly.com/alphascientist) to find out how I can help.\n"
   ]
  }
 ],
 "metadata": {
  "kernelspec": {
   "display_name": "alpha-scientist",
   "language": "python",
   "name": "alpha-scientist"
  },
  "language_info": {
   "codemirror_mode": {
    "name": "ipython",
    "version": 3
   },
   "file_extension": ".py",
   "mimetype": "text/x-python",
   "name": "python",
   "nbconvert_exporter": "python",
   "pygments_lexer": "ipython3",
   "version": "3.8.8"
  }
 },
 "nbformat": 4,
 "nbformat_minor": 5
}