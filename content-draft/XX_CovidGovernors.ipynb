{
 "cells": [
  {
   "cell_type": "code",
   "execution_count": 2,
   "metadata": {},
   "outputs": [
    {
     "data": {
      "text/html": [
       "<style>\n",
       "body {\n",
       "    margin: 0;\n",
       "    font-family: Helvetica\n",
       "    ;\n",
       "}\n",
       "table.dataframe {\n",
       "    border-collapse: collapse;\n",
       "    border: none;\n",
       "}\n",
       "table.dataframe tr {\n",
       "    border: none;\n",
       "}\n",
       "table.dataframe td, table.dataframe th {\n",
       "    margin: 0;\n",
       "    border: 2px solid #B0ACAC;\n",
       "    padding-left: 0.25em;\n",
       "    padding-right: 0.25em;\n",
       "}\n",
       "table.dataframe th:not(:empty) {\n",
       "    background-color: #EFEDED;\n",
       "    text-align: left;\n",
       "    font-weight: normal;\n",
       "}\n",
       "table.dataframe tr:nth-child(2) th:empty {\n",
       "    border-left: none;\n",
       "    border-right: 1px dashed #888;\n",
       "}\n",
       "table.dataframe td {\n",
       "    border: 1px solid #B0ACAC;\n",
       "    background-color: #F7FBFC;\n",
       "}\n",
       "</style>"
      ],
      "text/plain": [
       "<IPython.core.display.HTML object>"
      ]
     },
     "execution_count": 2,
     "metadata": {},
     "output_type": "execute_result"
    }
   ],
   "source": [
    "#ignore\n",
    "from IPython.core.display import HTML,Image\n",
    "import sys\n",
    "sys.path.append('/anaconda/')\n",
    "import config\n",
    "\n",
    "HTML('<style>{}</style>'.format(config.CSS))"
   ]
  },
  {
   "cell_type": "markdown",
   "metadata": {},
   "source": [
    "# UNDER CONSTRUCTION!!!\n",
    "\n",
    "\n",
    "\n"
   ]
  },
  {
   "cell_type": "markdown",
   "metadata": {},
   "source": [
    "## Process\n",
    "1. Download covid API; download state populations; download governor stats\n",
    "2. Normalize all stats by 100k\n",
    "3. Encode as D/R\n",
    "4. \n",
    "\n",
    "## Outline\n",
    "* Make data for a few different feature sets, some stronger, some weaker, some useless\n",
    "* Train duplicate models on similar data, with one better and one worse\n",
    "* show mechanics of an ensemble trained on walk-forward predictions of base models\n",
    "* Compare results of ensemble vs. base models vs. big soup using scorecard\n",
    "* Illustrate the problems of in-sample and negative weights on blending model\n"
   ]
  },
  {
   "cell_type": "code",
   "execution_count": null,
   "metadata": {
    "collapsed": true
   },
   "outputs": [],
   "source": []
  },
  {
   "cell_type": "code",
   "execution_count": 116,
   "metadata": {
    "collapsed": true
   },
   "outputs": [],
   "source": [
    "import numpy as np\n",
    "import pandas as pd\n",
    "pd.core.common.is_list_like = pd.api.types.is_list_like # remove once updated pandas-datareader issue is fixed\n",
    "# https://github.com/pydata/pandas-datareader/issues/534\n",
    "import pandas_datareader.data as web\n",
    "%matplotlib inline\n",
    "\n",
    "def get_symbols(symbols,data_source, begin_date=None,end_date=None):\n",
    "    out = pd.DataFrame()\n",
    "    for symbol in symbols:\n",
    "        df = web.DataReader(symbol, data_source,begin_date, end_date)[['AdjOpen','AdjHigh','AdjLow','AdjClose','AdjVolume']].reset_index()\n",
    "        df.columns = ['date','open','high','low','close','volume'] #my convention: always lowercase\n",
    "        df['symbol'] = symbol # add a new column which contains the symbol so we can keep multiple symbols in the same dataframe\n",
    "        df = df.set_index(['date','symbol'])\n",
    "        out = pd.concat([out,df],axis=0) #stacks on top of previously collected data\n",
    "    return out.sort_index()\n",
    "        \n",
    "prices = get_symbols(['AAPL'],data_source='quandl',begin_date='2012-01-01',end_date=None)\n",
    "# note, we're only using real price data to get an accurate date/symbol index set.  "
   ]
  },
  {
   "cell_type": "code",
   "execution_count": 158,
   "metadata": {
    "collapsed": true
   },
   "outputs": [],
   "source": [
    "# num_obs = prices.close.count()\n",
    "\n",
    "# def add_memory(s,n_days=50,memory_strength=0.1):\n",
    "#     ''' adds autoregressive behavior to series of data'''\n",
    "#     add_ewm = lambda x: (1-memory_strength)*x + memory_strength*x.ewm(n_days).mean()\n",
    "#     out = s.groupby(level='symbol').apply(add_ewm)\n",
    "#     return out\n",
    "\n",
    "# def make_random_walk(s,n_days=254,reversion_strenth=0.9,bias=1.):\n",
    "#     ''' creates a random walk from series of IID values.  This creates\n",
    "#     a feature which tends to have streaks of high and low values but \n",
    "#     eventually reverts.  Bias term sets the long-term average value.\n",
    "#     When used on a multi-index, this creates some covariance _between_ \n",
    "#     symbols, which is probably more realistic'''\n",
    "#     num_syms = len(s.index.get_level_values('symbol').unique())\n",
    "#     rw = (1-reversion_strenth)* s.rolling(n_days*num_syms,min_periods=1).sum() + reversion_strenth*0.+bias\n",
    "#     return rw\n",
    "\n",
    "\n",
    "# factor_1 = pd.Series(np.random.randn(num_obs),index=prices.index)\n",
    "# #factor_1 = add_memory(factor_1,10,0.1)\n",
    "# factor_1 = make_random_walk(factor_1,100,0.9,1.0)\n",
    "\n",
    "# factor_2 = pd.Series(np.random.randn(num_obs),index=prices.index)\n",
    "# #factor_2 = add_memory(factor_2,10,0.1)\n",
    "# factor_2 = make_random_walk(factor_2,100,0.9,1.0)\n",
    "\n",
    "# factor_3 = pd.Series(np.random.randn(num_obs),index=prices.index)\n",
    "# #factor_3 = add_memory(factor_3,10,0.1)\n",
    "# factor_3 = make_random_walk(factor_3,100,0.9,1.0)\n",
    "\n",
    "\n",
    "# ## generate feature data\n",
    "\n",
    "# # Features which represent factor 1\n",
    "# f11 = 0.25*factor_1  + 0.75 * pd.Series(np.random.randn(num_obs),index=prices.index)\n",
    "# f12 = 0.20*factor_1  + 0.8 * pd.Series(np.random.randn(num_obs),index=prices.index)\n",
    "# f13 = 0.15*factor_1  + 0.85 * pd.Series(np.random.randn(num_obs),index=prices.index)\n",
    "# f14 = 0.10*factor_1  + 0.90 * pd.Series(np.random.randn(num_obs),index=prices.index)\n",
    "\n",
    "# # Features which represent factor 2\n",
    "# f21 = 0.25*factor_2  + 0.75 * pd.Series(np.random.randn(num_obs),index=prices.index)\n",
    "# f22 = 0.20*factor_2  + 0.80 * pd.Series(np.random.randn(num_obs),index=prices.index)\n",
    "# f23 = 0.15*factor_2  + 0.85 * pd.Series(np.random.randn(num_obs),index=prices.index)\n",
    "# f24 = 0.10*factor_2  + 0.90 * pd.Series(np.random.randn(num_obs),index=prices.index)\n",
    "\n",
    "# # Features which represent factor 3\n",
    "# f31 = 0.25*factor_3  + 0.75 * pd.Series(np.random.randn(num_obs),index=prices.index)\n",
    "# f32 = 0.20*factor_3  + 0.20 * pd.Series(np.random.randn(num_obs),index=prices.index)\n",
    "# f33 = 0.15*factor_3  + 0.85 * pd.Series(np.random.randn(num_obs),index=prices.index)\n",
    "# f34 = 0.10*factor_3  + 0.90 * pd.Series(np.random.randn(num_obs),index=prices.index)\n",
    "\n",
    "# # interaction effects\n",
    "# f41 = f11-f21\n",
    "# f42 = f21-f31\n",
    "# f43 = f31-f11\n",
    "# f44 = f11+f21+f31\n",
    "\n",
    "# # Consider non-linear effects\n",
    "\n",
    "# # Random noise\n",
    "# f51 = pd.Series(np.random.randn(num_obs),index=prices.index)\n",
    "# f52 = pd.Series(np.random.randn(num_obs),index=prices.index)\n",
    "# f53 = pd.Series(np.random.randn(num_obs),index=prices.index)\n",
    "# f54 = pd.Series(np.random.randn(num_obs),index=prices.index)\n",
    "\n",
    "\n",
    "# features = pd.concat([f11,f12,f13,f14,f21,f22,f23,f24,\\\n",
    "#                       f31,f32,f33,f34,f41,f42,f43,f44,f51,f52,f53,f54],axis=1)\n",
    "# features.columns = ['f11','f12','f13','f14','f21','f22','f23','f24',\\\n",
    "#                       'f31','f32','f33','f34','f41','f42','f43','f44','f51','f52','f53','f54']\n",
    "\n",
    "# ## now, create response variable such that it is related to features:\n",
    "# # each factor's relationship to outcome varies in a random walk fashion\n",
    "# # This also embeds some amount of cross-asset correlation\n",
    "\n",
    "# rnd_1 = pd.Series(np.random.randn(num_obs),index=prices.index)\n",
    "# rnd_2 = pd.Series(np.random.randn(num_obs),index=prices.index)\n",
    "# rnd_3 = pd.Series(np.random.randn(num_obs),index=prices.index)\n",
    "\n",
    "# outcome =   factor_1 * make_random_walk(rnd_1,n_days=10,reversion_strenth=0.5,bias=0.5) + \\\n",
    "#             factor_2 * make_random_walk(rnd_2,n_days=10,reversion_strenth=0.3,bias=1.0) + \\\n",
    "#             factor_3 * make_random_walk(rnd_3,n_days=10,reversion_strenth=0.1,bias=0.0) + \\\n",
    "#             np.random.randn(num_obs) *10 \n",
    "            \n",
    "# # mean-center the outcome\n",
    "# outcome = outcome - outcome.mean()\n",
    "\n",
    "\n",
    "# # outcome =   factor_1 * np.linspace(0.5,1.5,num_obs) + \\\n",
    "# #             factor_2 * np.linspace(1.5,0.5,num_obs) + \\\n",
    "# #             factor_3 * pd.Series(np.sin(2*np.pi*np.linspace(0,1,num_obs)*2)+1,index=prices.index) +np.random.randn(num_obs) * 5 \n",
    "# outcome.name = 'outcome'"
   ]
  },
  {
   "cell_type": "code",
   "execution_count": null,
   "metadata": {
    "collapsed": true
   },
   "outputs": [],
   "source": []
  },
  {
   "cell_type": "code",
   "execution_count": 542,
   "metadata": {
    "collapsed": true
   },
   "outputs": [],
   "source": [
    "num_obs = prices.close.count()\n",
    "\n",
    "def add_memory(s,n_days=50,memory_strength=0.1):\n",
    "    ''' adds autoregressive behavior to series of data'''\n",
    "    add_ewm = lambda x: (1-memory_strength)*x + memory_strength*x.ewm(n_days).mean()\n",
    "    out = s.groupby(level='symbol').apply(add_ewm)\n",
    "    return out\n",
    "\n",
    "def make_random_walk(s,n_days=254,reversion_strenth=0.9,bias=1.):\n",
    "    ''' creates a random walk from series of IID values.  This creates\n",
    "    a feature which tends to have streaks of high and low values but \n",
    "    eventually reverts.  Bias term sets the long-term average value.\n",
    "    When used on a multi-index, this creates some covariance _between_ \n",
    "    symbols, which is probably more realistic'''\n",
    "    num_syms = len(s.index.get_level_values('symbol').unique())\n",
    "    rw = (1-reversion_strenth)* s.rolling(n_days*num_syms,min_periods=1).sum() + reversion_strenth*0.+bias\n",
    "    return rw\n",
    "\n",
    "\n",
    "# generate some (hidden) factors in the data to discover\n",
    "\n",
    "factor_1 = pd.Series(np.random.randn(num_obs),index=prices.index)\n",
    "#factor_1 = add_memory(factor_1,10,0.1)\n",
    "factor_1 = make_random_walk(factor_1,10,0.8,0.0)\n",
    "\n",
    "factor_2 = pd.Series(np.random.randn(num_obs),index=prices.index)\n",
    "#factor_2 = add_memory(factor_2,10,0.1)\n",
    "factor_2 = make_random_walk(factor_2,10,0.8,0.0)\n",
    "\n",
    "factor_3 = pd.Series(np.random.randn(num_obs),index=prices.index)\n",
    "#factor_3 = add_memory(factor_3,10,0.1)\n",
    "factor_3 = make_random_walk(factor_3,10,0.8,0.0)\n",
    "\n",
    "\n",
    "## generate feature data\n",
    "\n",
    "# Features which represent factor 1\n",
    "f11 = 0.3*factor_1  + pd.Series(np.random.randn(num_obs),index=prices.index)\n",
    "f12 = 0.2*factor_1  + pd.Series(np.random.randn(num_obs),index=prices.index)\n",
    "f13 = 0.1*factor_1  + pd.Series(np.random.randn(num_obs),index=prices.index)\n",
    "f14 = 0.05*factor_1  + pd.Series(np.random.randn(num_obs),index=prices.index)\n",
    "\n",
    "# Features which represent factor 2\n",
    "f21 = 0.3*factor_2  + pd.Series(np.random.randn(num_obs),index=prices.index)\n",
    "f22 = 0.2*factor_2  + pd.Series(np.random.randn(num_obs),index=prices.index)\n",
    "f23 = 0.1*factor_2  + pd.Series(np.random.randn(num_obs),index=prices.index)\n",
    "f24 = 0.050*factor_2  + pd.Series(np.random.randn(num_obs),index=prices.index)\n",
    "\n",
    "# Features which represent factor 3\n",
    "f31 = 0.3*factor_3  + pd.Series(np.random.randn(num_obs),index=prices.index)\n",
    "f32 = 0.2*factor_3  + pd.Series(np.random.randn(num_obs),index=prices.index)\n",
    "f33 = 0.1*factor_3  + pd.Series(np.random.randn(num_obs),index=prices.index)\n",
    "f34 = 0.05*factor_3  + pd.Series(np.random.randn(num_obs),index=prices.index)\n",
    "\n",
    "\n",
    "# Random noise\n",
    "f51 = pd.Series(np.random.randn(num_obs),index=prices.index)-pd.Series(np.random.randn(num_obs),index=prices.index).mean()\n",
    "f52 = pd.Series(np.random.randn(num_obs),index=prices.index)-pd.Series(np.random.randn(num_obs),index=prices.index).mean()\n",
    "f53 = pd.Series(np.random.randn(num_obs),index=prices.index)-pd.Series(np.random.randn(num_obs),index=prices.index).mean()\n",
    "f54 = pd.Series(np.random.randn(num_obs),index=prices.index)-pd.Series(np.random.randn(num_obs),index=prices.index).mean()\n",
    "\n",
    "features = pd.concat([f11,f12,f13,f14,f21,f22,f23,f24,\\\n",
    "                      f31,f32,f33,f34,f41,f42,f43,f44,f51,f52,f53,f54],axis=1)\n",
    "features.columns = ['f11','f12','f13','f14','f21','f22','f23','f24',\\\n",
    "                      'f31','f32','f33','f34','f41','f42','f43','f44','f51','f52','f53','f54']\n",
    "\n",
    "## now, create response variable such that it is related to features:\n",
    "# each factor's relationship to outcome varies in a random walk fashion\n",
    "# This also embeds some amount of cross-asset correlation\n",
    "\n",
    "rnd_1 = add_memory(pd.Series(np.random.randn(num_obs),index=prices.index),n_days=100,memory_strength=0.95)*4\n",
    "rnd_2 = add_memory(pd.Series(np.random.randn(num_obs),index=prices.index),n_days=200,memory_strength=0.95)*2\n",
    "rnd_3 = add_memory(pd.Series(np.random.randn(num_obs),index=prices.index),n_days=200,memory_strength=0.95)*1\n",
    "\n",
    "outcome =   factor_1*rnd_1 + factor_2*rnd_2 + factor_3*rnd_3 + np.random.randn(num_obs) \n",
    "\n",
    "# mean-center the outcome\n",
    "outcome = outcome - outcome.mean()\n",
    "\n",
    "# outcome =   factor_1 * np.linspace(0.5,1.5,num_obs) + \\\n",
    "#             factor_2 * np.linspace(1.5,0.5,num_obs) + \\\n",
    "#             factor_3 * pd.Series(np.sin(2*np.pi*np.linspace(0,1,num_obs)*2)+1,index=prices.index) +np.random.randn(num_obs) * 5 \n",
    "outcome.name = 'outcome'"
   ]
  },
  {
   "cell_type": "code",
   "execution_count": 543,
   "metadata": {},
   "outputs": [
    {
     "data": {
      "text/plain": [
       "<matplotlib.axes._subplots.AxesSubplot at 0x26e330b8>"
      ]
     },
     "execution_count": 543,
     "metadata": {},
     "output_type": "execute_result"
    },
    {
     "data": {
      "image/png": "[encoded data removed]",
      "text/plain": [
       "<matplotlib.figure.Figure at 0x26e25828>"
      ]
     },
     "metadata": {},
     "output_type": "display_data"
    }
   ],
   "source": [
    "rnd_1.plot()"
   ]
  },
  {
   "cell_type": "code",
   "execution_count": null,
   "metadata": {
    "collapsed": true
   },
   "outputs": [],
   "source": []
  },
  {
   "cell_type": "code",
   "execution_count": 544,
   "metadata": {},
   "outputs": [
    {
     "data": {
      "text/plain": [
       "date        symbol\n",
       "2018-03-21  AAPL     -0.587775\n",
       "2018-03-22  AAPL     -0.755820\n",
       "2018-03-23  AAPL     -2.074400\n",
       "2018-03-26  AAPL      0.059873\n",
       "2018-03-27  AAPL      1.062163\n",
       "dtype: float64"
      ]
     },
     "execution_count": 544,
     "metadata": {},
     "output_type": "execute_result"
    }
   ],
   "source": [
    "factor_2 = pd.Series(np.random.randn(num_obs),index=prices.index)\n",
    "factor_2.tail()"
   ]
  },
  {
   "cell_type": "code",
   "execution_count": 545,
   "metadata": {},
   "outputs": [
    {
     "data": {
      "text/plain": [
       "date        symbol\n",
       "2018-03-21  AAPL     -2.023399\n",
       "2018-03-22  AAPL     -1.931180\n",
       "2018-03-23  AAPL     -2.197483\n",
       "2018-03-26  AAPL     -2.139628\n",
       "2018-03-27  AAPL     -2.202500\n",
       "dtype: float64"
      ]
     },
     "execution_count": 545,
     "metadata": {},
     "output_type": "execute_result"
    },
    {
     "data": {
      "image/png": "[encoded data removed]",
      "text/plain": [
       "<matplotlib.figure.Figure at 0x26e6bf98>"
      ]
     },
     "metadata": {},
     "output_type": "display_data"
    }
   ],
   "source": [
    "factor_2 = make_random_walk(factor_2,100,0.9,0.0)\n",
    "factor_2.unstack().plot()\n",
    "factor_2.tail()"
   ]
  },
  {
   "cell_type": "code",
   "execution_count": 546,
   "metadata": {},
   "outputs": [
    {
     "data": {
      "text/plain": [
       "LinearRegression(copy_X=True, fit_intercept=True, n_jobs=None,\n",
       "         normalize=False)"
      ]
     },
     "execution_count": 546,
     "metadata": {},
     "output_type": "execute_result"
    }
   ],
   "source": [
    "\n",
    "\n",
    "model_1 = LinearRegression()\n",
    "model_1.fit(X=features[['f11','f12','f13','f14']],y=outcome)\n",
    "\n",
    "model_2 = LinearRegression()\n",
    "model_2.fit(X=features[['f21','f22','f23','f24']],y=outcome)\n",
    "\n",
    "model_3 = LinearRegression()\n",
    "model_3.fit(X=features[['f31','f32','f33','f34']],y=outcome)\n"
   ]
  },
  {
   "cell_type": "code",
   "execution_count": 547,
   "metadata": {},
   "outputs": [
    {
     "name": "stdout",
     "output_type": "stream",
     "text": [
      "0.0058463740035195055\n",
      "[ 0.01146385 -0.01275775  0.05939665  0.0452884 ]\n"
     ]
    }
   ],
   "source": [
    "print(model_1.score(X=features[['f11','f12','f13','f14']],y=outcome))\n",
    "print(model_1.coef_)"
   ]
  },
  {
   "cell_type": "code",
   "execution_count": 548,
   "metadata": {},
   "outputs": [
    {
     "name": "stdout",
     "output_type": "stream",
     "text": [
      "0.0024323312117545686\n",
      "[ 0.04647748  0.01094642 -0.00599834  0.01000452]\n"
     ]
    }
   ],
   "source": [
    "print(model_2.score(X=features[['f21','f22','f23','f24']],y=outcome))\n",
    "print(model_2.coef_)"
   ]
  },
  {
   "cell_type": "code",
   "execution_count": 549,
   "metadata": {},
   "outputs": [
    {
     "name": "stdout",
     "output_type": "stream",
     "text": [
      "0.00022285599538296452\n",
      "[ 0.00849998  0.00037002 -0.0124672  -0.00129443]\n"
     ]
    }
   ],
   "source": [
    "print(model_3.score(X=features[['f31','f32','f33','f34']],y=outcome))\n",
    "print(model_3.coef_)"
   ]
  },
  {
   "cell_type": "markdown",
   "metadata": {
    "collapsed": true
   },
   "source": [
    "## Making Base Models\n",
    "Following the methodology presented in [Walk-forward modeling](walk_forward_model_building.html), we'll create five base models to use in our ensemble:\n",
    "1. A simple model focused on `factor_1` features\n",
    "2. A simple model focused on `factor_2` features\n",
    "3. A simple model focused on `factor_3` features\n",
    "4. An overly-complex model focused on `factor_1` features\n",
    "5. A model of mostly non-useful features \n",
    "\n",
    "To make this easier to follow, I'll define a simple function called `make_walkforward_model` that trains a series of models at various points in time and generates out of sample predictions using those trained models."
   ]
  },
  {
   "cell_type": "code",
   "execution_count": 550,
   "metadata": {
    "collapsed": true
   },
   "outputs": [],
   "source": [
    "from sklearn.base import clone\n",
    "\n",
    "def make_walkforward_model(features,outcome,algo=LinearRegression()):\n",
    "    recalc_dates = features.resample('Q',level='date').mean().index.values[:-1]\n",
    "    \n",
    "    ## Train models\n",
    "    models = pd.Series(index=recalc_dates)\n",
    "    for date in recalc_dates:    \n",
    "        X_train = features.xs(slice(None,date),level='date',drop_level=False)\n",
    "        y_train = outcome.xs(slice(None,date),level='date',drop_level=False)\n",
    "        #print(f'Train with data prior to: {date} ({y_train.count()} obs)')\n",
    "        \n",
    "        model = clone(algo)\n",
    "        model.fit(X_train,y_train)\n",
    "        models.loc[date] = model\n",
    "\n",
    "    begin_dates = models.index\n",
    "    end_dates = models.index[1:].append(pd.to_datetime(['2099-12-31']))\n",
    "\n",
    "    ## Generate OUT OF SAMPLE walk-forward predictions\n",
    "    predictions = pd.Series(index=features.index)\n",
    "    for i,model in enumerate(models): #loop thru each models object in collection\n",
    "        #print(f'Using model trained on {begin_dates[i]}, Predict from: {begin_dates[i]} to: {end_dates[i]}')\n",
    "        X = features.xs(slice(begin_dates[i],end_dates[i]),level='date',drop_level=False)\n",
    "        p = pd.Series(model.predict(X),index=X.index)\n",
    "        predictions.loc[X.index] = p\n",
    "    \n",
    "    return models,predictions"
   ]
  },
  {
   "cell_type": "markdown",
   "metadata": {},
   "source": [
    "Secondarily, I'll define a simple _scorecard_ function similar to what was developed in [Model evaluation](model_evaluation.html) called `calc_scorecard`:"
   ]
  },
  {
   "cell_type": "code",
   "execution_count": 551,
   "metadata": {
    "collapsed": true
   },
   "outputs": [],
   "source": [
    "def calc_scorecard(y_pred,y_true):\n",
    "    \n",
    "    def make_df(y_pred,y_true):\n",
    "        y_pred.name = 'y_pred'\n",
    "        y_true.name = 'y_true'\n",
    "\n",
    "        df = pd.concat([y_pred,y_true],axis=1)\n",
    "\n",
    "        df['sign_pred'] = df.y_pred.apply(np.sign)\n",
    "        df['sign_true'] = df.y_true.apply(np.sign)\n",
    "        df['is_correct'] = 0\n",
    "        df.loc[df.sign_pred * df.sign_true > 0 ,'is_correct'] = 1 # only registers 1 when prediction was made AND it was correct\n",
    "        df['is_incorrect'] = 0\n",
    "        df.loc[df.sign_pred * df.sign_true < 0,'is_incorrect'] = 1 # only registers 1 when prediction was made AND it was wrong\n",
    "        df['is_predicted'] = df.is_correct + df.is_incorrect\n",
    "        df['result'] = df.sign_pred * df.y_true \n",
    "        return df\n",
    "    \n",
    "    df = make_df(y_pred,y_true)\n",
    "    \n",
    "    scorecard = pd.Series()\n",
    "    # building block metrics\n",
    "    scorecard.loc['accuracy'] = df.is_correct.sum()*1. / (df.is_predicted.sum()*1.)*100\n",
    "    scorecard.loc['edge'] = df.result.mean()\n",
    "    scorecard.loc['noise'] = df.y_pred.diff().abs().mean()\n",
    "\n",
    "    # derived metrics\n",
    "    scorecard.loc['y_true_chg'] = df.y_true.abs().mean()\n",
    "    scorecard.loc['y_pred_chg'] = df.y_pred.abs().mean()\n",
    "    scorecard.loc['prediction_calibration'] = scorecard.loc['y_pred_chg']/scorecard.loc['y_true_chg']\n",
    "    scorecard.loc['capture_ratio'] = scorecard.loc['edge']/scorecard.loc['y_true_chg']*100\n",
    "\n",
    "    # metrics for a subset of predictions\n",
    "    scorecard.loc['edge_long'] = df[df.sign_pred == 1].result.mean()  - df.y_true.mean()\n",
    "    scorecard.loc['edge_short'] = df[df.sign_pred == -1].result.mean()  - df.y_true.mean()\n",
    "\n",
    "    scorecard.loc['edge_win'] = df[df.is_correct == 1].result.mean()  - df.y_true.mean()\n",
    "    scorecard.loc['edge_lose'] = df[df.is_incorrect == 1].result.mean()  - df.y_true.mean()\n",
    "\n",
    "    return scorecard    "
   ]
  },
  {
   "cell_type": "code",
   "execution_count": 552,
   "metadata": {
    "collapsed": true
   },
   "outputs": [],
   "source": [
    "from sklearn.linear_model import LinearRegression,ElasticNet,Lasso,Ridge\n",
    "from sklearn.ensemble import ExtraTreesRegressor\n",
    "from sklearn.tree import DecisionTreeRegressor\n",
    "\n"
   ]
  },
  {
   "cell_type": "code",
   "execution_count": 553,
   "metadata": {},
   "outputs": [
    {
     "data": {
      "text/plain": [
       "accuracy                  50.066489\n",
       "edge                       0.026378\n",
       "noise                      0.093323\n",
       "y_true_chg                 0.823828\n",
       "y_pred_chg                 0.089999\n",
       "prediction_calibration     0.109245\n",
       "capture_ratio              3.201877\n",
       "edge_long                  0.059585\n",
       "edge_short                 0.011792\n",
       "edge_win                   0.846365\n",
       "edge_lose                 -0.795793\n",
       "dtype: float64"
      ]
     },
     "execution_count": 553,
     "metadata": {},
     "output_type": "execute_result"
    }
   ],
   "source": [
    "models_1,predictions_1 = make_walkforward_model(features[['f11','f12','f13','f14']],outcome,algo=LinearRegression())\n",
    "score_1 = calc_scorecard(y_pred = predictions_1,y_true=outcome)\n",
    "score_1"
   ]
  },
  {
   "cell_type": "code",
   "execution_count": 554,
   "metadata": {},
   "outputs": [
    {
     "data": {
      "text/plain": [
       "accuracy                  49.734043\n",
       "edge                       0.000745\n",
       "noise                      0.094417\n",
       "y_true_chg                 0.823828\n",
       "y_pred_chg                 0.083340\n",
       "prediction_calibration     0.101162\n",
       "capture_ratio              0.090400\n",
       "edge_long                  0.016544\n",
       "edge_short                -0.006844\n",
       "edge_win                   0.826252\n",
       "edge_lose                 -0.816027\n",
       "dtype: float64"
      ]
     },
     "execution_count": 554,
     "metadata": {},
     "output_type": "execute_result"
    }
   ],
   "source": [
    "models_2,predictions_2 = make_walkforward_model(features[['f21','f22','f23','f24']],outcome,algo=LinearRegression())\n",
    "score_2 = calc_scorecard(y_pred = predictions_2,y_true=outcome)\n",
    "score_2"
   ]
  },
  {
   "cell_type": "code",
   "execution_count": 555,
   "metadata": {},
   "outputs": [
    {
     "data": {
      "text/plain": [
       "accuracy                  48.005319\n",
       "edge                      -0.061174\n",
       "noise                      0.070965\n",
       "y_true_chg                 0.823828\n",
       "y_pred_chg                 0.070055\n",
       "prediction_calibration     0.085036\n",
       "capture_ratio             -7.425537\n",
       "edge_long                 -0.080186\n",
       "edge_short                -0.052262\n",
       "edge_win                   0.791515\n",
       "edge_lose                 -0.848439\n",
       "dtype: float64"
      ]
     },
     "execution_count": 555,
     "metadata": {},
     "output_type": "execute_result"
    }
   ],
   "source": [
    "models_3,predictions_3 = make_walkforward_model(features[['f31','f32','f33','f34']],outcome,algo=LinearRegression())\n",
    "score_3 = calc_scorecard(y_pred = predictions_3,y_true=outcome)\n",
    "score_3"
   ]
  },
  {
   "cell_type": "code",
   "execution_count": 556,
   "metadata": {},
   "outputs": [
    {
     "data": {
      "text/plain": [
       "accuracy                  50.398936\n",
       "edge                      -0.016121\n",
       "noise                      0.508493\n",
       "y_true_chg                 0.823828\n",
       "y_pred_chg                 0.366708\n",
       "prediction_calibration     0.445127\n",
       "capture_ratio             -1.956870\n",
       "edge_long                 -0.006662\n",
       "edge_short                -0.024183\n",
       "edge_win                   0.798619\n",
       "edge_lose                 -0.843968\n",
       "dtype: float64"
      ]
     },
     "execution_count": 556,
     "metadata": {},
     "output_type": "execute_result"
    }
   ],
   "source": [
    "models_4,predictions_4 = make_walkforward_model(features[['f11','f12','f13','f14']],outcome,algo=ExtraTreesRegressor(n_estimators=20))\n",
    "score_4 = calc_scorecard(y_pred = predictions_4,y_true=outcome)\n",
    "score_4"
   ]
  },
  {
   "cell_type": "code",
   "execution_count": 557,
   "metadata": {},
   "outputs": [
    {
     "data": {
      "text/plain": [
       "accuracy                  50.465426\n",
       "edge                      -0.001304\n",
       "noise                      0.501981\n",
       "y_true_chg                 0.823828\n",
       "y_pred_chg                 0.351151\n",
       "prediction_calibration     0.426243\n",
       "capture_ratio             -0.158298\n",
       "edge_long                  0.009240\n",
       "edge_short                -0.010658\n",
       "edge_win                   0.812248\n",
       "edge_lose                 -0.830144\n",
       "dtype: float64"
      ]
     },
     "execution_count": 557,
     "metadata": {},
     "output_type": "execute_result"
    }
   ],
   "source": [
    "models_5,predictions_5 = make_walkforward_model(features[['f51','f52','f53','f54']],outcome,algo=ExtraTreesRegressor(n_estimators=20))\n",
    "score_5 = calc_scorecard(y_pred = predictions_5,y_true=outcome)\n",
    "score_5"
   ]
  },
  {
   "cell_type": "code",
   "execution_count": null,
   "metadata": {
    "collapsed": true
   },
   "outputs": [],
   "source": []
  },
  {
   "cell_type": "code",
   "execution_count": 558,
   "metadata": {},
   "outputs": [
    {
     "data": {
      "text/plain": [
       "accuracy                  49.867021\n",
       "edge                      -0.009927\n",
       "noise                      0.208898\n",
       "y_true_chg                 0.823828\n",
       "y_pred_chg                 0.153531\n",
       "prediction_calibration     0.186363\n",
       "capture_ratio             -1.204941\n",
       "edge_long                  0.000077\n",
       "edge_short                -0.017216\n",
       "edge_win                   0.813349\n",
       "edge_lose                 -0.828835\n",
       "dtype: float64"
      ]
     },
     "execution_count": 558,
     "metadata": {},
     "output_type": "execute_result"
    }
   ],
   "source": [
    "models_all,predictions_all = make_walkforward_model(features,outcome,algo=LinearRegression())\n",
    "score_all = calc_scorecard(y_pred = predictions_all,y_true=outcome)\n",
    "score_all"
   ]
  },
  {
   "cell_type": "code",
   "execution_count": 559,
   "metadata": {
    "collapsed": true
   },
   "outputs": [],
   "source": [
    "component_predictions = pd.concat({'model_1':predictions_1,'model_2':predictions_2,\n",
    "                                   'model_3':predictions_3,'model_4':predictions_4,\n",
    "                                   'model_5':predictions_5},axis=1)\n"
   ]
  },
  {
   "cell_type": "code",
   "execution_count": 560,
   "metadata": {},
   "outputs": [
    {
     "data": {
      "text/plain": [
       "accuracy                  49.410132\n",
       "edge                      -0.016758\n",
       "noise                      0.000222\n",
       "y_true_chg                 0.821113\n",
       "y_pred_chg                 0.025102\n",
       "prediction_calibration     0.030571\n",
       "capture_ratio             -2.040848\n",
       "edge_long                 -0.015619\n",
       "edge_short                -0.035274\n",
       "edge_win                   0.800288\n",
       "edge_lose                 -0.834500\n",
       "dtype: float64"
      ]
     },
     "execution_count": 560,
     "metadata": {},
     "output_type": "execute_result"
    }
   ],
   "source": [
    "# Drop invalid rows and make sure X and y align\n",
    "both = pd.concat([outcome.rename('y_true'),component_predictions],axis=1).dropna() \n",
    "X = both.drop(columns=['y_true'])\n",
    "y = both['y_true']\n",
    "\n",
    "models_ens,predictions_ens = make_walkforward_model(X,y,algo=ElasticNet(positive=True))\n",
    "score_ens = calc_scorecard(y_pred = predictions_ens,y_true=y)\n",
    "score_ens"
   ]
  },
  {
   "cell_type": "code",
   "execution_count": 561,
   "metadata": {},
   "outputs": [
    {
     "data": {
      "text/html": [
       "<div>\n",
       "<style scoped>\n",
       "    .dataframe tbody tr th:only-of-type {\n",
       "        vertical-align: middle;\n",
       "    }\n",
       "\n",
       "    .dataframe tbody tr th {\n",
       "        vertical-align: top;\n",
       "    }\n",
       "\n",
       "    .dataframe thead th {\n",
       "        text-align: right;\n",
       "    }\n",
       "</style>\n",
       "<table border=\"1\" class=\"dataframe\">\n",
       "  <thead>\n",
       "    <tr style=\"text-align: right;\">\n",
       "      <th></th>\n",
       "      <th>model_1</th>\n",
       "      <th>model_2</th>\n",
       "      <th>model_3</th>\n",
       "      <th>model_4</th>\n",
       "      <th>model_5</th>\n",
       "      <th>model_all</th>\n",
       "      <th>model_ens</th>\n",
       "    </tr>\n",
       "  </thead>\n",
       "  <tbody>\n",
       "    <tr>\n",
       "      <th>accuracy</th>\n",
       "      <td>50.066489</td>\n",
       "      <td>49.734043</td>\n",
       "      <td>48.005319</td>\n",
       "      <td>50.398936</td>\n",
       "      <td>50.465426</td>\n",
       "      <td>49.867021</td>\n",
       "      <td>49.410132</td>\n",
       "    </tr>\n",
       "    <tr>\n",
       "      <th>edge</th>\n",
       "      <td>0.026378</td>\n",
       "      <td>0.000745</td>\n",
       "      <td>-0.061174</td>\n",
       "      <td>-0.016121</td>\n",
       "      <td>-0.001304</td>\n",
       "      <td>-0.009927</td>\n",
       "      <td>-0.016758</td>\n",
       "    </tr>\n",
       "    <tr>\n",
       "      <th>noise</th>\n",
       "      <td>0.093323</td>\n",
       "      <td>0.094417</td>\n",
       "      <td>0.070965</td>\n",
       "      <td>0.508493</td>\n",
       "      <td>0.501981</td>\n",
       "      <td>0.208898</td>\n",
       "      <td>0.000222</td>\n",
       "    </tr>\n",
       "    <tr>\n",
       "      <th>y_true_chg</th>\n",
       "      <td>0.823828</td>\n",
       "      <td>0.823828</td>\n",
       "      <td>0.823828</td>\n",
       "      <td>0.823828</td>\n",
       "      <td>0.823828</td>\n",
       "      <td>0.823828</td>\n",
       "      <td>0.821113</td>\n",
       "    </tr>\n",
       "    <tr>\n",
       "      <th>y_pred_chg</th>\n",
       "      <td>0.089999</td>\n",
       "      <td>0.083340</td>\n",
       "      <td>0.070055</td>\n",
       "      <td>0.366708</td>\n",
       "      <td>0.351151</td>\n",
       "      <td>0.153531</td>\n",
       "      <td>0.025102</td>\n",
       "    </tr>\n",
       "    <tr>\n",
       "      <th>prediction_calibration</th>\n",
       "      <td>0.109245</td>\n",
       "      <td>0.101162</td>\n",
       "      <td>0.085036</td>\n",
       "      <td>0.445127</td>\n",
       "      <td>0.426243</td>\n",
       "      <td>0.186363</td>\n",
       "      <td>0.030571</td>\n",
       "    </tr>\n",
       "    <tr>\n",
       "      <th>capture_ratio</th>\n",
       "      <td>3.201877</td>\n",
       "      <td>0.090400</td>\n",
       "      <td>-7.425537</td>\n",
       "      <td>-1.956870</td>\n",
       "      <td>-0.158298</td>\n",
       "      <td>-1.204941</td>\n",
       "      <td>-2.040848</td>\n",
       "    </tr>\n",
       "    <tr>\n",
       "      <th>edge_long</th>\n",
       "      <td>0.059585</td>\n",
       "      <td>0.016544</td>\n",
       "      <td>-0.080186</td>\n",
       "      <td>-0.006662</td>\n",
       "      <td>0.009240</td>\n",
       "      <td>0.000077</td>\n",
       "      <td>-0.015619</td>\n",
       "    </tr>\n",
       "    <tr>\n",
       "      <th>edge_short</th>\n",
       "      <td>0.011792</td>\n",
       "      <td>-0.006844</td>\n",
       "      <td>-0.052262</td>\n",
       "      <td>-0.024183</td>\n",
       "      <td>-0.010658</td>\n",
       "      <td>-0.017216</td>\n",
       "      <td>-0.035274</td>\n",
       "    </tr>\n",
       "    <tr>\n",
       "      <th>edge_win</th>\n",
       "      <td>0.846365</td>\n",
       "      <td>0.826252</td>\n",
       "      <td>0.791515</td>\n",
       "      <td>0.798619</td>\n",
       "      <td>0.812248</td>\n",
       "      <td>0.813349</td>\n",
       "      <td>0.800288</td>\n",
       "    </tr>\n",
       "    <tr>\n",
       "      <th>edge_lose</th>\n",
       "      <td>-0.795793</td>\n",
       "      <td>-0.816027</td>\n",
       "      <td>-0.848439</td>\n",
       "      <td>-0.843968</td>\n",
       "      <td>-0.830144</td>\n",
       "      <td>-0.828835</td>\n",
       "      <td>-0.834500</td>\n",
       "    </tr>\n",
       "  </tbody>\n",
       "</table>\n",
       "</div>"
      ],
      "text/plain": [
       "                          model_1    model_2    model_3    model_4    model_5  \\\n",
       "accuracy                50.066489  49.734043  48.005319  50.398936  50.465426   \n",
       "edge                     0.026378   0.000745  -0.061174  -0.016121  -0.001304   \n",
       "noise                    0.093323   0.094417   0.070965   0.508493   0.501981   \n",
       "y_true_chg               0.823828   0.823828   0.823828   0.823828   0.823828   \n",
       "y_pred_chg               0.089999   0.083340   0.070055   0.366708   0.351151   \n",
       "prediction_calibration   0.109245   0.101162   0.085036   0.445127   0.426243   \n",
       "capture_ratio            3.201877   0.090400  -7.425537  -1.956870  -0.158298   \n",
       "edge_long                0.059585   0.016544  -0.080186  -0.006662   0.009240   \n",
       "edge_short               0.011792  -0.006844  -0.052262  -0.024183  -0.010658   \n",
       "edge_win                 0.846365   0.826252   0.791515   0.798619   0.812248   \n",
       "edge_lose               -0.795793  -0.816027  -0.848439  -0.843968  -0.830144   \n",
       "\n",
       "                        model_all  model_ens  \n",
       "accuracy                49.867021  49.410132  \n",
       "edge                    -0.009927  -0.016758  \n",
       "noise                    0.208898   0.000222  \n",
       "y_true_chg               0.823828   0.821113  \n",
       "y_pred_chg               0.153531   0.025102  \n",
       "prediction_calibration   0.186363   0.030571  \n",
       "capture_ratio           -1.204941  -2.040848  \n",
       "edge_long                0.000077  -0.015619  \n",
       "edge_short              -0.017216  -0.035274  \n",
       "edge_win                 0.813349   0.800288  \n",
       "edge_lose               -0.828835  -0.834500  "
      ]
     },
     "execution_count": 561,
     "metadata": {},
     "output_type": "execute_result"
    }
   ],
   "source": [
    "scores = pd.concat({'model_1':score_1,'model_2':score_2,\n",
    "                                   'model_3':score_3,'model_4':score_4,\n",
    "                                   'model_5':score_5,\n",
    "                   'model_all':score_all,'model_ens':score_ens},axis=1)\n",
    "scores"
   ]
  },
  {
   "cell_type": "code",
   "execution_count": 562,
   "metadata": {},
   "outputs": [
    {
     "data": {
      "text/plain": [
       "[array([0., 0., 0., 0., 0.]),\n",
       " array([0., 0., 0., 0., 0.]),\n",
       " array([0., 0., 0., 0., 0.]),\n",
       " array([0., 0., 0., 0., 0.]),\n",
       " array([0., 0., 0., 0., 0.]),\n",
       " array([0., 0., 0., 0., 0.]),\n",
       " array([0., 0., 0., 0., 0.]),\n",
       " array([0., 0., 0., 0., 0.]),\n",
       " array([0., 0., 0., 0., 0.]),\n",
       " array([0., 0., 0., 0., 0.]),\n",
       " array([0., 0., 0., 0., 0.]),\n",
       " array([0., 0., 0., 0., 0.]),\n",
       " array([0., 0., 0., 0., 0.]),\n",
       " array([0., 0., 0., 0., 0.]),\n",
       " array([0., 0., 0., 0., 0.]),\n",
       " array([0., 0., 0., 0., 0.]),\n",
       " array([0., 0., 0., 0., 0.]),\n",
       " array([0., 0., 0., 0., 0.]),\n",
       " array([0., 0., 0., 0., 0.]),\n",
       " array([0., 0., 0., 0., 0.]),\n",
       " array([0., 0., 0., 0., 0.]),\n",
       " array([0., 0., 0., 0., 0.]),\n",
       " array([0., 0., 0., 0., 0.])]"
      ]
     },
     "execution_count": 562,
     "metadata": {},
     "output_type": "execute_result"
    }
   ],
   "source": [
    "[model.coef_ for model in models_ens]"
   ]
  },
  {
   "cell_type": "markdown",
   "metadata": {},
   "source": [
    "## Evaluating Models\n",
    "Imagine that we created a simple linear model (such as below) and wanted to measure its effectiveness at prediction.  \n",
    "\n",
    "_Note: we'll follow the walk-forward modeling process described in the [previous post]().  If you don't understand the below code snippet (and want to...) please check out that post._  "
   ]
  },
  {
   "cell_type": "markdown",
   "metadata": {},
   "source": [
    "So we've got a model, we've got a sizeable set of (out of sample) predictions.  Is the model any good?  Should we junk it, tune it, or trade it?!?!?  \n",
    "\n",
    "Since this is a regression model, I'll throw our data into `scikit-learn`'s metrics package.  "
   ]
  },
  {
   "cell_type": "code",
   "execution_count": 16,
   "metadata": {},
   "outputs": [
    {
     "name": "stdout",
     "output_type": "stream",
     "text": [
      "explained variance     -0.009645\n",
      "MAE                    11.178196\n",
      "MSE                   209.397721\n",
      "MedAE                   9.153485\n",
      "RSQ                    -0.013194\n",
      "dtype: float64\n"
     ]
    }
   ],
   "source": [
    "import sklearn.metrics as metrics\n",
    "\n",
    "# make sure we have 1-for-1 mapping between pred and true\n",
    "common_idx = outcome.dropna().index.intersection(predictions.dropna().index)\n",
    "y_true = outcome[common_idx]\n",
    "y_true.name = 'y_true'\n",
    "y_pred = predictions[common_idx]\n",
    "y_pred.name = 'y_pred'\n",
    "\n",
    "standard_metrics = pd.Series()\n",
    "\n",
    "standard_metrics.loc['explained variance'] = metrics.explained_variance_score(y_true, y_pred)\n",
    "standard_metrics.loc['MAE'] = metrics.mean_absolute_error(y_true, y_pred)\n",
    "standard_metrics.loc['MSE'] = metrics.mean_squared_error(y_true, y_pred)\n",
    "standard_metrics.loc['MedAE'] = metrics.median_absolute_error(y_true, y_pred)\n",
    "standard_metrics.loc['RSQ'] = metrics.r2_score(y_true, y_pred)\n",
    "\n",
    "print(standard_metrics)\n",
    "\n"
   ]
  },
  {
   "cell_type": "markdown",
   "metadata": {},
   "source": [
    "These stats don't really tell us much by themselves.  You may have an intuition for r-squared so that may give you a level of confidence in the models.  However, even this metric [has problems](https://onlinecourses.science.psu.edu/stat501/node/258/) not to mention does not tell us much about the practicality of this signal from a trading point of view.  \n",
    "\n",
    "True, we could construct some trading rules around this series of predictions and perform a formal backtest on that.  However, that is quite time consuming and introduces a number of extraneous variables into the equation.  "
   ]
  },
  {
   "cell_type": "code",
   "execution_count": null,
   "metadata": {
    "collapsed": true
   },
   "outputs": [],
   "source": []
  },
  {
   "cell_type": "markdown",
   "metadata": {},
   "source": [
    "## A better way...\n",
    "Below is a method and code framework for evaluating models along several useful dimensions.  Below I'll work through an example of creating a \"scorecard\" with about a half dozen metrics as a starting point.  You can feel free to extend this into a longer scorecard which is suited to your needs and beliefs.  In real-world application, I use about 25 metrics in a standard \"scorecard\" each time I evaluate a model.  \n",
    "\n",
    "I'll focus only on regression-oriented metrics (i.e., those which use a continuous prediction rather than a binary or classification prediction).  It's trivial to re-purpose the same framework to a classification-oriented environment.  \n",
    "\n",
    "In this approach, we'll create an extensible _scorecard_ which can contain many custom-defined _metrics_.  These metrics can be combined and adapted in many different ways, some of which I'll lay out in the later part of this example.  "
   ]
  },
  {
   "cell_type": "markdown",
   "metadata": {},
   "source": [
    "### Preparing our data\n",
    "However, before implementing specific metrics we need to do some data pre-processing.  It'll become clear why doing this initially will save considerable time later when calculating aggregate metrics.\n",
    "\n",
    "To create these intermediate values, you'll need the following inputs:\n",
    "* __y_pred:__ the _continuous variable_ prediction made by your model for each timestep, for each symbol\n",
    "* __y_true:__ the _continuous variable_ actual outcome for each timestep, for each symbol.  \n",
    "* __index:__ this is the unique identifier for each prediction or actual result.  If working with a single instrument, then you can simply use date (or time or whatever).  If you're using multiple instruments, a multi-index with (date/symbol) is necessary. \n",
    "\n",
    "In other words, if your model is predicting one-day price changes, you'd want your y_pred to be the model's predictions made as of March 9th (for the coming day), indexed as `2017-03-09` and you'd want the actual _future_ outcome which will play out in the next day also aligned to Mar 9th.  This \"peeking\" convention is very useful for working with large sets of data across different time horizons.  It is described ad nauseum in [this post]().\n",
    "\n",
    "The raw input data we need to provide might look something like this:"
   ]
  },
  {
   "cell_type": "code",
   "execution_count": 15,
   "metadata": {},
   "outputs": [
    {
     "data": {
      "text/html": [
       "<div>\n",
       "<style scoped>\n",
       "    .dataframe tbody tr th:only-of-type {\n",
       "        vertical-align: middle;\n",
       "    }\n",
       "\n",
       "    .dataframe tbody tr th {\n",
       "        vertical-align: top;\n",
       "    }\n",
       "\n",
       "    .dataframe thead th {\n",
       "        text-align: right;\n",
       "    }\n",
       "</style>\n",
       "<table border=\"1\" class=\"dataframe\">\n",
       "  <thead>\n",
       "    <tr style=\"text-align: right;\">\n",
       "      <th></th>\n",
       "      <th></th>\n",
       "      <th>y_pred</th>\n",
       "      <th>y_true</th>\n",
       "    </tr>\n",
       "    <tr>\n",
       "      <th>date</th>\n",
       "      <th>symbol</th>\n",
       "      <th></th>\n",
       "      <th></th>\n",
       "    </tr>\n",
       "  </thead>\n",
       "  <tbody>\n",
       "    <tr>\n",
       "      <th>2018-03-26</th>\n",
       "      <th>MSFT</th>\n",
       "      <td>2.138478</td>\n",
       "      <td>15.036211</td>\n",
       "    </tr>\n",
       "    <tr>\n",
       "      <th rowspan=\"4\" valign=\"top\">2018-03-27</th>\n",
       "      <th>AAPL</th>\n",
       "      <td>0.943603</td>\n",
       "      <td>-2.971245</td>\n",
       "    </tr>\n",
       "    <tr>\n",
       "      <th>AMZN</th>\n",
       "      <td>2.124592</td>\n",
       "      <td>-3.899074</td>\n",
       "    </tr>\n",
       "    <tr>\n",
       "      <th>CSCO</th>\n",
       "      <td>3.095615</td>\n",
       "      <td>6.055206</td>\n",
       "    </tr>\n",
       "    <tr>\n",
       "      <th>MSFT</th>\n",
       "      <td>1.870669</td>\n",
       "      <td>21.456034</td>\n",
       "    </tr>\n",
       "  </tbody>\n",
       "</table>\n",
       "</div>"
      ],
      "text/plain": [
       "                     y_pred     y_true\n",
       "date       symbol                     \n",
       "2018-03-26 MSFT    2.138478  15.036211\n",
       "2018-03-27 AAPL    0.943603  -2.971245\n",
       "           AMZN    2.124592  -3.899074\n",
       "           CSCO    3.095615   6.055206\n",
       "           MSFT    1.870669  21.456034"
      ]
     },
     "execution_count": 15,
     "metadata": {},
     "output_type": "execute_result"
    }
   ],
   "source": [
    "pd.concat([y_pred,y_true],axis=1).tail()"
   ]
  },
  {
   "cell_type": "markdown",
   "metadata": {},
   "source": [
    "We will feed this data into a simple function which will return a dataframe with the y_pred and y_true values, along with several other useful derivative values.  These derivative values include:\n",
    "\n",
    "* __sign_pred:__ positive or negative sign of prediction\n",
    "* __sign_true:__ positive or negative sign of true outcome\n",
    "* __is_correct:__ 1 if sign_pred == sign_true, else 0\n",
    "* __is_incorrect:__ opposite\n",
    "* __is_predicted:__ 1 if the model has made a valid prediction, 0 if not.  This is important if models only emit predictions when they have a certain level of confidence\n",
    "* __result:__ the profit (loss) resulting from betting one unit in the direction of the sign_pred.  This is the continuous variable result of following the model\n",
    "\n",
    "With this set of intermediate variables already calculated, we can easily calculate the three core metrics of accuracy, edge, and noise as simple one-liners.  For instance: "
   ]
  },
  {
   "cell_type": "code",
   "execution_count": 16,
   "metadata": {},
   "outputs": [
    {
     "data": {
      "text/html": [
       "<div>\n",
       "<style scoped>\n",
       "    .dataframe tbody tr th:only-of-type {\n",
       "        vertical-align: middle;\n",
       "    }\n",
       "\n",
       "    .dataframe tbody tr th {\n",
       "        vertical-align: top;\n",
       "    }\n",
       "\n",
       "    .dataframe thead th {\n",
       "        text-align: right;\n",
       "    }\n",
       "</style>\n",
       "<table border=\"1\" class=\"dataframe\">\n",
       "  <thead>\n",
       "    <tr style=\"text-align: right;\">\n",
       "      <th></th>\n",
       "      <th></th>\n",
       "      <th>y_pred</th>\n",
       "      <th>y_true</th>\n",
       "      <th>sign_pred</th>\n",
       "      <th>sign_true</th>\n",
       "      <th>is_correct</th>\n",
       "      <th>is_incorrect</th>\n",
       "      <th>is_predicted</th>\n",
       "      <th>result</th>\n",
       "    </tr>\n",
       "    <tr>\n",
       "      <th>date</th>\n",
       "      <th>symbol</th>\n",
       "      <th></th>\n",
       "      <th></th>\n",
       "      <th></th>\n",
       "      <th></th>\n",
       "      <th></th>\n",
       "      <th></th>\n",
       "      <th></th>\n",
       "      <th></th>\n",
       "    </tr>\n",
       "  </thead>\n",
       "  <tbody>\n",
       "    <tr>\n",
       "      <th>2017-12-28</th>\n",
       "      <th>MSFT</th>\n",
       "      <td>1.851555</td>\n",
       "      <td>-2.761499</td>\n",
       "      <td>1.0</td>\n",
       "      <td>-1.0</td>\n",
       "      <td>0</td>\n",
       "      <td>1</td>\n",
       "      <td>1</td>\n",
       "      <td>-2.761499</td>\n",
       "    </tr>\n",
       "    <tr>\n",
       "      <th rowspan=\"4\" valign=\"top\">2017-12-29</th>\n",
       "      <th>AAPL</th>\n",
       "      <td>0.926069</td>\n",
       "      <td>6.989515</td>\n",
       "      <td>1.0</td>\n",
       "      <td>1.0</td>\n",
       "      <td>1</td>\n",
       "      <td>0</td>\n",
       "      <td>1</td>\n",
       "      <td>6.989515</td>\n",
       "    </tr>\n",
       "    <tr>\n",
       "      <th>AMZN</th>\n",
       "      <td>3.283816</td>\n",
       "      <td>12.888877</td>\n",
       "      <td>1.0</td>\n",
       "      <td>1.0</td>\n",
       "      <td>1</td>\n",
       "      <td>0</td>\n",
       "      <td>1</td>\n",
       "      <td>12.888877</td>\n",
       "    </tr>\n",
       "    <tr>\n",
       "      <th>CSCO</th>\n",
       "      <td>0.873531</td>\n",
       "      <td>-5.786085</td>\n",
       "      <td>1.0</td>\n",
       "      <td>-1.0</td>\n",
       "      <td>0</td>\n",
       "      <td>1</td>\n",
       "      <td>1</td>\n",
       "      <td>-5.786085</td>\n",
       "    </tr>\n",
       "    <tr>\n",
       "      <th>MSFT</th>\n",
       "      <td>0.393115</td>\n",
       "      <td>-24.660196</td>\n",
       "      <td>1.0</td>\n",
       "      <td>-1.0</td>\n",
       "      <td>0</td>\n",
       "      <td>1</td>\n",
       "      <td>1</td>\n",
       "      <td>-24.660196</td>\n",
       "    </tr>\n",
       "  </tbody>\n",
       "</table>\n",
       "</div>"
      ],
      "text/plain": [
       "                     y_pred     y_true  sign_pred  sign_true  is_correct  \\\n",
       "date       symbol                                                          \n",
       "2017-12-28 MSFT    1.851555  -2.761499        1.0       -1.0           0   \n",
       "2017-12-29 AAPL    0.926069   6.989515        1.0        1.0           1   \n",
       "           AMZN    3.283816  12.888877        1.0        1.0           1   \n",
       "           CSCO    0.873531  -5.786085        1.0       -1.0           0   \n",
       "           MSFT    0.393115 -24.660196        1.0       -1.0           0   \n",
       "\n",
       "                   is_incorrect  is_predicted     result  \n",
       "date       symbol                                         \n",
       "2017-12-28 MSFT               1             1  -2.761499  \n",
       "2017-12-29 AAPL               0             1   6.989515  \n",
       "           AMZN               0             1  12.888877  \n",
       "           CSCO               1             1  -5.786085  \n",
       "           MSFT               1             1 -24.660196  "
      ]
     },
     "execution_count": 16,
     "metadata": {},
     "output_type": "execute_result"
    }
   ],
   "source": [
    "def make_df(y_pred,y_true):\n",
    "    y_pred.name = 'y_pred'\n",
    "    y_true.name = 'y_true'\n",
    "    \n",
    "    df = pd.concat([y_pred,y_true],axis=1)\n",
    "\n",
    "    df['sign_pred'] = df.y_pred.apply(np.sign)\n",
    "    df['sign_true'] = df.y_true.apply(np.sign)\n",
    "    df['is_correct'] = 0\n",
    "    df.loc[df.sign_pred * df.sign_true > 0 ,'is_correct'] = 1 # only registers 1 when prediction was made AND it was correct\n",
    "    df['is_incorrect'] = 0\n",
    "    df.loc[df.sign_pred * df.sign_true < 0,'is_incorrect'] = 1 # only registers 1 when prediction was made AND it was wrong\n",
    "    df['is_predicted'] = df.is_correct + df.is_incorrect\n",
    "    df['result'] = df.sign_pred * df.y_true \n",
    "    return df\n",
    "\n",
    "df = make_df(y_pred,y_train)\n",
    "df.dropna().tail()"
   ]
  },
  {
   "cell_type": "markdown",
   "metadata": {},
   "source": [
    "### Defining our metrics\n",
    "The metrics we'll start with here include things like:\n",
    "* __Accuracy:__ Just as the name suggests, this measures the percent of predictions that were _directionally_ correct vs. incorrect.\n",
    "* __Edge:__ perhaps the most useful of all metrics, this is the expected value of the prediction over a sufficiently large set of draws.  Think of this like a blackjack card counter who knows the expected profit on each dollar bet when the odds are at a level of favorability\n",
    "* __Noise:__ critically important but often ignored, the noise metric estimates how dramatically the model's predictions vary from one day to the next.  As you might imagine, a model which abruptly changes its mind every few days is much harder to follow (and much more expensive to follow) than one which is a bit more steady.    "
   ]
  },
  {
   "cell_type": "code",
   "execution_count": 17,
   "metadata": {},
   "outputs": [
    {
     "data": {
      "text/plain": [
       "accuracy    52.883124\n",
       "edge         0.987504\n",
       "noise        1.411837\n",
       "dtype: float64"
      ]
     },
     "execution_count": 17,
     "metadata": {},
     "output_type": "execute_result"
    }
   ],
   "source": [
    "def calc_scorecard(df):\n",
    "    scorecard = pd.Series()\n",
    "    # building block metrics\n",
    "    scorecard.loc['accuracy'] = df.is_correct.sum()*1. / (df.is_predicted.sum()*1.)*100\n",
    "    scorecard.loc['edge'] = df.result.mean()\n",
    "    scorecard.loc['noise'] = df.y_pred.diff().abs().mean()\n",
    "    \n",
    "    return scorecard    \n",
    "\n",
    "calc_scorecard(df)"
   ]
  },
  {
   "cell_type": "markdown",
   "metadata": {},
   "source": [
    "Much better.  I now know that we've been directionally correct 68% of the time, and that following this signal would create an edge of 1.5 units per time period.  \n",
    "\n",
    "Let's keep going.  We can now easily combine and transform things to derive new metrics.  The below function shows several examples, including:\n",
    "* __y_true_chg__ and __y_pred_chg:__ The average magnitude of change (per period) in y_true and y_pred.  \n",
    "* __prediction_calibration:__ A simple ratio of the magnitude of our predictions vs. magnitude of truth.  This gives some indication of whether our model is properly tuned to the size of movement in addition to the direction of it.  \n",
    "* __capture_ratio:__ Ratio of the \"edge\" we gain by naively following our predictions vs. the actual daily change.  100 would indicate that we were _perfectly_ capturing the true movement of the target variable.\n"
   ]
  },
  {
   "cell_type": "code",
   "execution_count": 18,
   "metadata": {},
   "outputs": [
    {
     "data": {
      "text/plain": [
       "accuracy                  52.883124\n",
       "edge                       0.987504\n",
       "noise                      1.411837\n",
       "y_true_chg                10.793238\n",
       "y_pred_chg                 1.813462\n",
       "prediction_calibration     0.168018\n",
       "capture_ratio              9.149282\n",
       "dtype: float64"
      ]
     },
     "execution_count": 18,
     "metadata": {},
     "output_type": "execute_result"
    }
   ],
   "source": [
    "def calc_scorecard(df):\n",
    "    scorecard = pd.Series()\n",
    "    # building block metrics\n",
    "    scorecard.loc['accuracy'] = df.is_correct.sum()*1. / (df.is_predicted.sum()*1.)*100\n",
    "    scorecard.loc['edge'] = df.result.mean()\n",
    "    scorecard.loc['noise'] = df.y_pred.diff().abs().mean()\n",
    "\n",
    "    # derived metrics\n",
    "    scorecard.loc['y_true_chg'] = df.y_true.abs().mean()\n",
    "    scorecard.loc['y_pred_chg'] = df.y_pred.abs().mean()\n",
    "    scorecard.loc['prediction_calibration'] = scorecard.loc['y_pred_chg']/scorecard.loc['y_true_chg']\n",
    "    scorecard.loc['capture_ratio'] = scorecard.loc['edge']/scorecard.loc['y_true_chg']*100\n",
    "\n",
    "    return scorecard    \n",
    "\n",
    "calc_scorecard(df)"
   ]
  },
  {
   "cell_type": "markdown",
   "metadata": {},
   "source": [
    "Additionally, metrics can be easily calculated for only long or short predictions (for a two-sided model) or separately for positions which ended up being winners and losers.  \n",
    "* __edge_long__ and __edge_short:__ The \"edge\" for only long signals or for short signals.\n",
    "* __edge_win__ and __edge_lose:__ The \"edge\" for only winners or for only losers.\n",
    "\n",
    "If you've added categorical information to your data (such as industry classification), you can also run these metrics on each category of holdings in your data.\n"
   ]
  },
  {
   "cell_type": "code",
   "execution_count": 19,
   "metadata": {},
   "outputs": [
    {
     "data": {
      "text/plain": [
       "accuracy                  52.883124\n",
       "edge                       0.987504\n",
       "noise                      1.411837\n",
       "y_true_chg                10.793238\n",
       "y_pred_chg                 1.813462\n",
       "prediction_calibration     0.168018\n",
       "capture_ratio              9.149282\n",
       "edge_long                  0.574971\n",
       "edge_short                -1.484506\n",
       "edge_win                  10.087226\n",
       "edge_lose                -11.595796\n",
       "dtype: float64"
      ]
     },
     "execution_count": 19,
     "metadata": {},
     "output_type": "execute_result"
    }
   ],
   "source": [
    "def calc_scorecard(df):\n",
    "    scorecard = pd.Series()\n",
    "    # building block metrics\n",
    "    scorecard.loc['accuracy'] = df.is_correct.sum()*1. / (df.is_predicted.sum()*1.)*100\n",
    "    scorecard.loc['edge'] = df.result.mean()\n",
    "    scorecard.loc['noise'] = df.y_pred.diff().abs().mean()\n",
    "\n",
    "    # derived metrics\n",
    "    scorecard.loc['y_true_chg'] = df.y_true.abs().mean()\n",
    "    scorecard.loc['y_pred_chg'] = df.y_pred.abs().mean()\n",
    "    scorecard.loc['prediction_calibration'] = scorecard.loc['y_pred_chg']/scorecard.loc['y_true_chg']\n",
    "    scorecard.loc['capture_ratio'] = scorecard.loc['edge']/scorecard.loc['y_true_chg']*100\n",
    "\n",
    "    # metrics for a subset of predictions\n",
    "    scorecard.loc['edge_long'] = df[df.sign_pred == 1].result.mean()  - df.y_true.mean()\n",
    "    scorecard.loc['edge_short'] = df[df.sign_pred == -1].result.mean()  - df.y_true.mean()\n",
    "\n",
    "    scorecard.loc['edge_win'] = df[df.is_correct == 1].result.mean()  - df.y_true.mean()\n",
    "    scorecard.loc['edge_lose'] = df[df.is_incorrect == 1].result.mean()  - df.y_true.mean()\n",
    "\n",
    "    return scorecard    \n",
    "\n",
    "calc_scorecard(df)"
   ]
  },
  {
   "cell_type": "markdown",
   "metadata": {
    "collapsed": true
   },
   "source": [
    "From this toy example, we'd see that the model is predicting with a strong directional accuracy, is capturing about half of the total theoretical profit to be made, makes more on winners than it loses on losers, and is equally valid on both long and short predictions.  If this were real data, I would be rushing to put this model into production!\n"
   ]
  },
  {
   "cell_type": "markdown",
   "metadata": {
    "collapsed": true
   },
   "source": [
    "### Comparing models\n",
    "The true usefulness of this methodology comes when wanting to make comparisons.  Model A vs Model B.  Last year vs. this year.  Small cap vs. large cap.  \n",
    "\n",
    "To illustrate, let's say that we're comparing two models, a linear regression vs. a random forest, for performance on a training set and a testing set (pretend for a moment that we didn't adhere to [walk-forward modeling]() practices...).   "
   ]
  },
  {
   "cell_type": "code",
   "execution_count": 20,
   "metadata": {},
   "outputs": [
    {
     "data": {
      "text/html": [
       "<div>\n",
       "<style scoped>\n",
       "    .dataframe tbody tr th:only-of-type {\n",
       "        vertical-align: middle;\n",
       "    }\n",
       "\n",
       "    .dataframe tbody tr th {\n",
       "        vertical-align: top;\n",
       "    }\n",
       "\n",
       "    .dataframe thead th {\n",
       "        text-align: right;\n",
       "    }\n",
       "</style>\n",
       "<table border=\"1\" class=\"dataframe\">\n",
       "  <thead>\n",
       "    <tr style=\"text-align: right;\">\n",
       "      <th></th>\n",
       "      <th>model1_train</th>\n",
       "      <th>model1_test</th>\n",
       "      <th>model2_train</th>\n",
       "      <th>model2_test</th>\n",
       "    </tr>\n",
       "  </thead>\n",
       "  <tbody>\n",
       "    <tr>\n",
       "      <th>accuracy</th>\n",
       "      <td>54.426444</td>\n",
       "      <td>55.366492</td>\n",
       "      <td>89.347079</td>\n",
       "      <td>52.552356</td>\n",
       "    </tr>\n",
       "    <tr>\n",
       "      <th>edge</th>\n",
       "      <td>1.524135</td>\n",
       "      <td>1.909756</td>\n",
       "      <td>10.146790</td>\n",
       "      <td>0.873742</td>\n",
       "    </tr>\n",
       "    <tr>\n",
       "      <th>noise</th>\n",
       "      <td>1.433720</td>\n",
       "      <td>1.411006</td>\n",
       "      <td>8.208881</td>\n",
       "      <td>4.812878</td>\n",
       "    </tr>\n",
       "    <tr>\n",
       "      <th>y_true_chg</th>\n",
       "      <td>10.877873</td>\n",
       "      <td>9.960705</td>\n",
       "      <td>10.877873</td>\n",
       "      <td>9.960705</td>\n",
       "    </tr>\n",
       "    <tr>\n",
       "      <th>y_pred_chg</th>\n",
       "      <td>1.748991</td>\n",
       "      <td>1.797036</td>\n",
       "      <td>7.383680</td>\n",
       "      <td>3.707533</td>\n",
       "    </tr>\n",
       "    <tr>\n",
       "      <th>prediction_calibration</th>\n",
       "      <td>0.160784</td>\n",
       "      <td>0.180413</td>\n",
       "      <td>0.678780</td>\n",
       "      <td>0.372216</td>\n",
       "    </tr>\n",
       "    <tr>\n",
       "      <th>capture_ratio</th>\n",
       "      <td>14.011336</td>\n",
       "      <td>19.172904</td>\n",
       "      <td>93.279171</td>\n",
       "      <td>8.771893</td>\n",
       "    </tr>\n",
       "    <tr>\n",
       "      <th>edge_long</th>\n",
       "      <td>0.740540</td>\n",
       "      <td>0.803881</td>\n",
       "      <td>9.175988</td>\n",
       "      <td>0.453991</td>\n",
       "    </tr>\n",
       "    <tr>\n",
       "      <th>edge_short</th>\n",
       "      <td>-0.159373</td>\n",
       "      <td>0.172193</td>\n",
       "      <td>9.034167</td>\n",
       "      <td>-1.753270</td>\n",
       "    </tr>\n",
       "    <tr>\n",
       "      <th>edge_win</th>\n",
       "      <td>10.358396</td>\n",
       "      <td>9.468088</td>\n",
       "      <td>10.730754</td>\n",
       "      <td>9.056433</td>\n",
       "    </tr>\n",
       "    <tr>\n",
       "      <th>edge_lose</th>\n",
       "      <td>-11.297213</td>\n",
       "      <td>-10.270759</td>\n",
       "      <td>-4.466345</td>\n",
       "      <td>-10.827587</td>\n",
       "    </tr>\n",
       "  </tbody>\n",
       "</table>\n",
       "</div>"
      ],
      "text/plain": [
       "                        model1_train  model1_test  model2_train  model2_test\n",
       "accuracy                   54.426444    55.366492     89.347079    52.552356\n",
       "edge                        1.524135     1.909756     10.146790     0.873742\n",
       "noise                       1.433720     1.411006      8.208881     4.812878\n",
       "y_true_chg                 10.877873     9.960705     10.877873     9.960705\n",
       "y_pred_chg                  1.748991     1.797036      7.383680     3.707533\n",
       "prediction_calibration      0.160784     0.180413      0.678780     0.372216\n",
       "capture_ratio              14.011336    19.172904     93.279171     8.771893\n",
       "edge_long                   0.740540     0.803881      9.175988     0.453991\n",
       "edge_short                 -0.159373     0.172193      9.034167    -1.753270\n",
       "edge_win                   10.358396     9.468088     10.730754     9.056433\n",
       "edge_lose                 -11.297213   -10.270759     -4.466345   -10.827587"
      ]
     },
     "execution_count": 20,
     "metadata": {},
     "output_type": "execute_result"
    }
   ],
   "source": [
    "from sklearn.model_selection import train_test_split\n",
    "from sklearn.linear_model import ElasticNetCV,Lasso,Ridge\n",
    "from sklearn.ensemble import RandomForestRegressor\n",
    "\n",
    "X_train,X_test,y_train,y_test = train_test_split(features,outcome,test_size=0.20,shuffle=False)\n",
    "\n",
    "# linear regression\n",
    "model1 = LinearRegression().fit(X_train,y_train)\n",
    "model1_train = pd.Series(model1.predict(X_train),index=X_train.index)\n",
    "model1_test = pd.Series(model1.predict(X_test),index=X_test.index)\n",
    "\n",
    "model2 = RandomForestRegressor().fit(X_train,y_train)\n",
    "model2_train = pd.Series(model2.predict(X_train),index=X_train.index)\n",
    "model2_test = pd.Series(model2.predict(X_test),index=X_test.index)\n",
    "\n",
    "# create dataframes for each \n",
    "model1_train_df = make_df(model1_train,y_train)\n",
    "model1_test_df = make_df(model1_test,y_test)\n",
    "model2_train_df = make_df(model2_train,y_train)\n",
    "model2_test_df = make_df(model2_test,y_test)\n",
    "\n",
    "s1 = calc_scorecard(model1_train_df)\n",
    "s1.name = 'model1_train'\n",
    "s2 = calc_scorecard(model1_test_df)\n",
    "s2.name = 'model1_test'\n",
    "s3 = calc_scorecard(model2_train_df)\n",
    "s3.name = 'model2_train'\n",
    "s4 = calc_scorecard(model2_test_df)\n",
    "s4.name = 'model2_test'\n",
    "\n",
    "pd.concat([s1,s2,s3,s4],axis=1)"
   ]
  },
  {
   "cell_type": "markdown",
   "metadata": {
    "collapsed": true
   },
   "source": [
    "This quick and dirty scorecard comparison gives us a great deal of useful information.  We learn that:\n",
    "* The relatively simple linear regression (model1) does a good (unrealistically good...) job of prediction, ciorrect about 68% of the time and capturing about 53% of available price movement (this is very good) during training\n",
    "* Model1 holds up very well out of sample, performing almost as well on test as train\n",
    "* Model2, a more complex random forest ensemble model, appears _far_ superior on the training data, capturing 90%+ of available price action, but appears quite overfit and does not perform nearly as well on the test set.\n"
   ]
  },
  {
   "cell_type": "markdown",
   "metadata": {},
   "source": [
    "### Summary\n",
    "In this final part, we've covered a powerful framework for comparing and combining outputs from multiple machine learning models using a form of ensemble modeling known as \"stacked generalization\".  \n",
    "\n",
    "This technique optimizes the model for \"generalization\", helping to avoid the trap of over-trusting models which are excessively overfitted to the past training data.  \n",
    "\n",
    "This final post, combined with the five previous posts, presents an end-to-end framework for applying supervised machine learning techniques to financial time series data, in a way which helps mitigate the several unique challenges of this domain.  \n",
    "\n",
    "* [Data management](ML_data_management.html)\n",
    "* [Feature engineering](feature_engineering.html)\n",
    "* [Feature selection](feature_selection.html)\n",
    "* [Walk-forward modeling](walk_forward_model_building.html)\n",
    "* [Model evaluation](model_evaluation.html)\n",
    "\n",
    "Please feel free to add to the comment section with your comments and questions on this post.  I'm also interested in ideas for future posts.  \n",
    "\n",
    "Going forward, I plan to shift gears from tutorials to research on market anomalies and trading opportunities.  "
   ]
  },
  {
   "cell_type": "markdown",
   "metadata": {
    "collapsed": true
   },
   "source": [
    "### One last thing...\n",
    "If you've found this post useful, please consider subscribing to the email list to be notified of future posts (email addresses will only be used for this purpose...).  \n",
    "\n",
    "You can also follow me on [twitter](https://twitter.com/data2alpha) and forward to a friend or colleague who may find this topic interesting.  "
   ]
  }
 ],
 "metadata": {
  "kernelspec": {
   "display_name": "Python 3 (ipykernel)",
   "language": "python",
   "name": "python3"
  },
  "language_info": {
   "codemirror_mode": {
    "name": "ipython",
    "version": 3
   },
   "file_extension": ".py",
   "mimetype": "text/x-python",
   "name": "python",
   "nbconvert_exporter": "python",
   "pygments_lexer": "ipython3",
   "version": "3.8.0"
  }
 },
 "nbformat": 4,
 "nbformat_minor": 2
}
