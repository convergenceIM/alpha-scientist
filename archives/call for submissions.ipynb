{
 "cells": [
  {
   "cell_type": "markdown",
   "metadata": {},
   "source": [
    "You may have noticed that this blog has been mostly inactive in 2019.  Earlier this year, I took a full-time position with one of my buy-side consulting clients focused on researching methodologies for application of ML / data science to alpha research.  While I'm thoroughly enjoying the work, it creates constraints on my bandwidth and flexibility to share research here.  \n",
    "\n",
    "However, despite a lack of new content, the blog's readership continues to grow.  The blog continues to get >1000 unique visitors per 4-week period and followers for the Alpha Scientist Twitter account (@data2alpha) has more than doubled since I stopped posting.  I'm trying not to take that personally :-)\n",
    "\n",
    "There is clearly a community of like-minded quants out there who are thirsty for fresh content on the intersection of data science and alpha research, which is fantastic to see.  \n",
    "\n",
    "So, here's the ask: I am looking for readers who have interest in becoming contributors to the blog - either as a one-time deal or (ideally) on a semi-regular basis.  \n",
    "\n",
    "In keeping with the theme of the site, postings should be focused on the applications of data science to investment research.  This could include: \n",
    "1. Tutorials on skills, techniques, or tools/packages, \n",
    "2. Results of specific alpha research, \n",
    "3. Reviews of books, papers, MOOCs, etc... related to the subject, or \n",
    "4. None of the above.  \n",
    "\n",
    "To be consistent with prior postings, I'm biased towards the \"narrative + code\" style, meaning a human-readable article with snippets of python code inserted for clarity, though style is less important than relevant and high-quality content.  \n",
    "\n",
    "If you are generally interested but lack specific ideas, here is a quick brainstormed list of ideas to inspire your own:\n",
    "\n",
    "DATA\n",
    "* Identify some interesting alternative datasets to scrape from the web; tutorial on implementing one of these into a scraping pipeline\n",
    "* Tutorial or comparison for sources of free/cheap market data, from sources like Tiingo, Alphavantage, Quandl, others\n",
    "\n",
    "METHODS\n",
    "* Compare the effectiveness of linear models, tree models, neural network models, etc... in modeling alpha signals  \n",
    "* Tutorial on implementing a less commonly used model type on a widely studied anomaly\n",
    "\n",
    "ANOMALIES\n",
    "* Tutorial on implementing an interesting idea presented in a paper, book etc...\n",
    "* Exploring 13-F filings to identify evidence of \"smart money\" insiders\n",
    "* Demonstrate usage of Google Trends as an input source to a predictive model\n",
    "\n",
    "OTHER\n",
    "* Bibliographies / lit reviews on academic papers, books, MOOCs, Kaggle kernels, podcasts, etc... which are relevant to data science in alpha research\n",
    "\n",
    "\n",
    "If you'd like to explore this further, please drop me an email at <thealphascientist@gmail.com>.  Thanks! Chad\n",
    "\n",
    " "
   ]
  },
  {
   "cell_type": "code",
   "execution_count": null,
   "metadata": {},
   "outputs": [],
   "source": []
  }
 ],
 "metadata": {
  "kernelspec": {
   "display_name": "Python 3",
   "language": "python",
   "name": "python3"
  },
  "language_info": {
   "codemirror_mode": {
    "name": "ipython",
    "version": 3
   },
   "file_extension": ".py",
   "mimetype": "text/x-python",
   "name": "python",
   "nbconvert_exporter": "python",
   "pygments_lexer": "ipython3",
   "version": "3.6.9"
  }
 },
 "nbformat": 4,
 "nbformat_minor": 2
}
